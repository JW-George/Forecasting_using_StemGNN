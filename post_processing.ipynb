{
 "cells": [
  {
   "cell_type": "markdown",
   "id": "a22d5336-75b4-40e5-8841-8cf995176e26",
   "metadata": {},
   "source": [
    "---\n",
    "\n",
    "# Post-Processing to share results\n",
    "### Revision 23.03.03\n",
    "\n",
    "---"
   ]
  },
  {
   "cell_type": "markdown",
   "id": "67d15633-fed9-4796-9ae3-c5bbf73db3f4",
   "metadata": {},
   "source": [
    "## 1. saved model : keep & result file : keep"
   ]
  },
  {
   "cell_type": "code",
   "execution_count": 2,
   "id": "bdc30d0e-d11b-458e-9f51-1fa986365fff",
   "metadata": {},
   "outputs": [],
   "source": [
    "# from distutils.dir_util import copy_tree #built-in module\n",
    "# import os\n",
    "\n",
    "# if not os.path.exists('please_share_me'):\n",
    "#     os.makedirs('please_share_me')\n",
    "    \n",
    "# dir_list = os.listdir('./output')\n",
    "# dir_list.remove('.ipynb_checkpoints')\n",
    "# for i in dir_list :\n",
    "#     source = './output/'+i\n",
    "#     destination = './please_share_me/'+i\n",
    "#     try:\n",
    "#         if not os.path.exists(destination):\n",
    "#             os.makedirs(destination)\n",
    "#         copy_tree(source+'/test', destination+'/test')\n",
    "#     except:\n",
    "#         print(f'{i} <- copy 이슈발생')"
   ]
  },
  {
   "cell_type": "markdown",
   "id": "e3d22d8d-e824-4209-b743-0c28b72bede5",
   "metadata": {},
   "source": [
    "## 2. saved model : remove & result file : keep"
   ]
  },
  {
   "cell_type": "code",
   "execution_count": 8,
   "id": "133e306c-6ee7-4e29-8517-65cb29b618d1",
   "metadata": {},
   "outputs": [],
   "source": [
    "import shutil, os #built-in module\n",
    "dir_list = os.listdir('./output')\n",
    "dir_list.remove('.ipynb_checkpoints')\n",
    "if os.path.exists('./output/.ipynb_checkpoints'):\n",
    "    shutil.rmtree('./output/.ipynb_checkpoints')\n",
    "for i in dir_list :\n",
    "    source = './output/'+i\n",
    "    try:\n",
    "        if os.path.exists(source+'/train'):\n",
    "            shutil.rmtree(source+'/train')\n",
    "    except:\n",
    "        print(f'{i} <- remove 이슈발생')"
   ]
  },
  {
   "cell_type": "markdown",
   "id": "5ff0a19a-cec9-4a43-9bbd-f294baca5a22",
   "metadata": {},
   "source": [
    "---"
   ]
  },
  {
   "cell_type": "code",
   "execution_count": null,
   "id": "14f4e4be-b8c4-41d8-88cc-e533c10336d6",
   "metadata": {},
   "outputs": [],
   "source": []
  }
 ],
 "metadata": {
  "kernelspec": {
   "display_name": "Python 3 (ipykernel)",
   "language": "python",
   "name": "python3"
  },
  "language_info": {
   "codemirror_mode": {
    "name": "ipython",
    "version": 3
   },
   "file_extension": ".py",
   "mimetype": "text/x-python",
   "name": "python",
   "nbconvert_exporter": "python",
   "pygments_lexer": "ipython3",
   "version": "3.8.10"
  }
 },
 "nbformat": 4,
 "nbformat_minor": 5
}

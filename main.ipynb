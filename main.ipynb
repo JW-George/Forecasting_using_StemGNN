{
 "cells": [
  {
   "cell_type": "markdown",
   "metadata": {
    "id": "WvRVj7lXSLSc"
   },
   "source": [
    "---\n",
    "\n",
    "# Forecasting Fruit Price using StemGNN\n",
    "### Revision 23.04.05\n",
    "\n",
    "---"
   ]
  },
  {
   "cell_type": "markdown",
   "metadata": {
    "tags": []
   },
   "source": [
    "## 1 Environment"
   ]
  },
  {
   "cell_type": "code",
   "execution_count": 6,
   "metadata": {},
   "outputs": [
    {
     "name": "stdout",
     "output_type": "stream",
     "text": [
      "1.7.1+cu110 True\n"
     ]
    }
   ],
   "source": [
    "import torch\n",
    "print(torch.__version__, torch.cuda.is_available())\n",
    "# 1.7.1+cu110 True"
   ]
  },
  {
   "cell_type": "code",
   "execution_count": 7,
   "metadata": {
    "executionInfo": {
     "elapsed": 4778,
     "status": "ok",
     "timestamp": 1669999405726,
     "user": {
      "displayName": "George",
      "userId": "15038403754561146675"
     },
     "user_tz": -540
    },
    "id": "ns-jmDC_FksQ",
    "tags": []
   },
   "outputs": [],
   "source": [
    "#import torch\n",
    "import torch.nn as nn\n",
    "import torch.utils.data as torch_data\n",
    "import torch.nn.functional as F\n",
    "\n",
    "from datetime import datetime\n",
    "import pandas as pd\n",
    "import numpy as np\n",
    "import argparse, json, time, os, sys, importlib, itertools, shutil\n",
    "os.environ['CUDA_VISIBLE_DEVICES'] = '0,1'\n",
    "\n",
    "import warnings\n",
    "warnings.filterwarnings(action='ignore')\n",
    "\n",
    "#from models.handler import train, test\n",
    "sys.path.insert(0, './models')\n",
    "import handler\n",
    "importlib.reload(handler)\n",
    "\n",
    "import matplotlib.pyplot as plt\n",
    "plt.style.use('seaborn-whitegrid')\n",
    "%matplotlib inline"
   ]
  },
  {
   "cell_type": "markdown",
   "metadata": {
    "tags": []
   },
   "source": [
    "## 2 Data Check"
   ]
  },
  {
   "cell_type": "code",
   "execution_count": 29,
   "metadata": {
    "executionInfo": {
     "elapsed": 4541,
     "status": "ok",
     "timestamp": 1669999507429,
     "user": {
      "displayName": "George",
      "userId": "15038403754561146675"
     },
     "user_tz": -540
    },
    "id": "QREe0cRqtuDr"
   },
   "outputs": [],
   "source": [
    "#with Price Data\n",
    "price_dataset = pd.read_csv('./dataset/price_dataset.csv',index_col=[0])\n",
    "price_dataset.index = pd.to_datetime(price_dataset.index)\n",
    "price_dataset.to_csv(\"./dataset/pre_price.csv\", header=True, index=False)"
   ]
  },
  {
   "cell_type": "markdown",
   "metadata": {},
   "source": [
    "## 3 Data Smoothing"
   ]
  },
  {
   "cell_type": "code",
   "execution_count": 30,
   "metadata": {},
   "outputs": [],
   "source": [
    "# Data Smoothing using Rolling Average\n",
    "plot_result = [price_dataset]\n",
    "for i in [7, 14, 21, 28]: # 7d, 14d, 21d, 28d\n",
    "    rolling_tmp = pd.DataFrame(price_dataset.rolling(i).mean()).dropna()\n",
    "    for j in range(rolling_tmp.shape[1]):\n",
    "        if j in range(0,5):\n",
    "            rolling_tmp.iloc[:,j] = rolling_tmp.iloc[:,j].round(decimals = 0).astype('int')\n",
    "        if j in range(4,10):\n",
    "            rolling_tmp.iloc[:,j] = rolling_tmp.iloc[:,j].round(decimals = 1).astype('float64')\n",
    "    rolling_tmp.iloc[:,10] = rolling_tmp.iloc[:,10].apply(np.ceil).astype('int')\n",
    "    rolling_tmp.to_csv(\"./dataset/pre_price_s_\"+str(i)+\"d.csv\", header=True, index=False)\n",
    "    plot_result.append(rolling_tmp)"
   ]
  },
  {
   "cell_type": "markdown",
   "metadata": {},
   "source": [
    "## 4 Train"
   ]
  },
  {
   "cell_type": "code",
   "execution_count": 31,
   "metadata": {
    "executionInfo": {
     "elapsed": 544,
     "status": "ok",
     "timestamp": 1669999562829,
     "user": {
      "displayName": "George",
      "userId": "15038403754561146675"
     },
     "user_tz": -540
    },
    "id": "M9KJ98SUyYpd",
    "tags": []
   },
   "outputs": [],
   "source": [
    "def stemgnn (data, window_size, horizon, train_length, valid_length, test_length) :\n",
    "    print('Dataset:', data, '| Window_size:',window_size,'| Horizon: ',horizon)\n",
    "    \n",
    "    parser = argparse.ArgumentParser()\n",
    "    parser.add_argument('--train', type=bool, default=True)\n",
    "    parser.add_argument('--evaluate', type=bool, default=True)\n",
    "    parser.add_argument('--dataset', type=str, default=data) #ECG_data\n",
    "    parser.add_argument('--window_size', type=int, default=window_size)\n",
    "    parser.add_argument('--horizon', type=int, default=horizon)\n",
    "    parser.add_argument('--train_length', type=float, default=train_length)\n",
    "    parser.add_argument('--valid_length', type=float, default=valid_length)\n",
    "    parser.add_argument('--test_length', type=float, default=test_length)\n",
    "    parser.add_argument('--epoch', type=int, default=200)\n",
    "    parser.add_argument('--lr', type=float, default=1e-4)\n",
    "    parser.add_argument('--multi_layer', type=int, default=5)\n",
    "    #parser.add_argument('--device', type=str, default='cpu')\n",
    "    parser.add_argument('--device', type=str, default='cuda')\n",
    "    parser.add_argument('--validate_freq', type=int, default=1)\n",
    "    parser.add_argument('--batch_size', type=int, default=32)\n",
    "    parser.add_argument('--norm_method', type=str, default='z_score')\n",
    "    parser.add_argument('--optimizer', type=str, default='RMSProp')\n",
    "    parser.add_argument('--early_stop', type=bool, default=True)\n",
    "    parser.add_argument('--early_stop_step', type=int, default=20)\n",
    "    parser.add_argument('--exponential_decay_step', type=int, default=5)\n",
    "    parser.add_argument('--decay_rate', type=float, default=0.5)\n",
    "    parser.add_argument('--dropout_rate', type=float, default=0.5)\n",
    "    parser.add_argument('--leakyrelu_rate', type=int, default=0.2)\n",
    "\n",
    "    #args = parser.parse_args()\n",
    "    args = parser.parse_args(args=[])\n",
    "    data_file = os.path.join('dataset', args.dataset + '.csv')\n",
    "    data = pd.read_csv(data_file).values\n",
    "    \n",
    "    # make dirs\n",
    "    args.dataset = args.dataset + '_w_'+str(args.window_size)+'_h_'+str(args.horizon)\n",
    "    result_train_file = os.path.join('output', args.dataset, 'train')\n",
    "    result_test_file = os.path.join('output', args.dataset, 'test')\n",
    "    if not os.path.exists(result_train_file):\n",
    "        os.makedirs(result_train_file)\n",
    "    if not os.path.exists(result_test_file):\n",
    "        os.makedirs(result_test_file)\n",
    "\n",
    "    # split data\n",
    "    #train_ratio = args.train_length / (args.train_length + args.valid_length + args.test_length)\n",
    "    #valid_ratio = args.valid_length / (args.train_length + args.valid_length + args.test_length)\n",
    "    #test_ratio = 1 - train_ratio - valid_ratio\n",
    "    #train_data = data[:int(train_ratio * len(data))]\n",
    "    #valid_data = data[int(train_ratio * len(data)):int((train_ratio + valid_ratio) * len(data))]\n",
    "    #test_data = data[int((train_ratio + valid_ratio) * len(data)):]\n",
    "    train_data = price_dataset.loc['2000-01-30':'2015-12-31'].values\n",
    "    valid_data = price_dataset.loc['2016.01.01':'2019.12.31'].values\n",
    "    test_data = price_dataset.loc['2020.01.01':'2022.04.01'].values\n",
    "    \n",
    "    # Train\n",
    "    torch.manual_seed(0)\n",
    "    if args.train:\n",
    "        try:\n",
    "            before_train = datetime.now().timestamp()\n",
    "            _, normalize_statistic = handler.train(train_data, valid_data, args, result_train_file)\n",
    "            after_train = datetime.now().timestamp()\n",
    "            print(f'\\nTraining took {(after_train - before_train) / 60} minutes')\n",
    "        except KeyboardInterrupt:\n",
    "            print('-' * 99)\n",
    "            print('Exiting from training early')\n",
    "            \n",
    "    # Evaluate\n",
    "    if args.evaluate:\n",
    "        before_evaluation = datetime.now().timestamp()\n",
    "        handler.test(test_data, args, result_train_file, result_test_file)\n",
    "        after_evaluation = datetime.now().timestamp()\n",
    "        #print(f'Evaluation took {(after_evaluation - before_evaluation) / 60} minutes')\n",
    "    print('-'*30)\n",
    "    \n",
    "    # Post-Processing\n",
    "    dir_list = os.listdir('./output')\n",
    "    if '.ipynb_checkpoints' in dir_list:\n",
    "        dir_list.remove('.ipynb_checkpoints')\n",
    "    for i in dir_list :\n",
    "        source = './output/'+i\n",
    "        try:\n",
    "            if os.path.exists(source+'/train'):\n",
    "                shutil.rmtree(source+'/train')\n",
    "        except:\n",
    "            print(f'{i} <- remove exception')\n",
    "    if os.path.exists('./output/.ipynb_checkpoints'):\n",
    "        shutil.rmtree('./output/.ipynb_checkpoints')\n",
    "    \n",
    "    return args"
   ]
  },
  {
   "cell_type": "code",
   "execution_count": 32,
   "metadata": {
    "tags": []
   },
   "outputs": [
    {
     "name": "stdout",
     "output_type": "stream",
     "text": [
      "경우의 수 : 1840개 | ex: ('pre_price', 15, 1)\n"
     ]
    }
   ],
   "source": [
    "csv_cases = ['pre_price', 'pre_price_s_7d','pre_price_s_14d', 'pre_price_s_21d', 'pre_price_s_28d']\n",
    "window_cases = [a for a in range(15,61)]\n",
    "horizon_cases = [a+1 for a in range(7)] + [14]\n",
    "all_cases = list(itertools.product(*[csv_cases,window_cases,horizon_cases]))\n",
    "print(\"경우의 수 : %s개 | ex:\" %len(all_cases), all_cases[0])"
   ]
  },
  {
   "cell_type": "code",
   "execution_count": 28,
   "metadata": {
    "tags": []
   },
   "outputs": [
    {
     "name": "stdout",
     "output_type": "stream",
     "text": [
      "Dataset: pre_price | Window_size: 15 | Horizon:  1\n",
      "Epoch:0 | \n",
      "Training took 0.021498699982961018 minutes\n",
      "\n",
      "Performance on test set: MAPE:  0.72 | MAE: 2184.54 | RMSE: 4988.7357|\n",
      "MAPE of potato : 0.1552 , lettuce : 0.3146 , onion : 0.1955 , cucumber : 0.2080\n",
      "------------------------------\n",
      "Dataset: pre_price | Window_size: 15 | Horizon:  2\n",
      "Epoch:0 | \n",
      "Training took 0.021732719739278157 minutes\n",
      "\n",
      "Performance on test set: MAPE:  0.73 | MAE: 2183.91 | RMSE: 5399.9561|\n",
      "MAPE of potato : 0.1461 , lettuce : 0.2905 , onion : 0.1810 , cucumber : 0.2079\n",
      "------------------------------\n",
      "Dataset: pre_price | Window_size: 15 | Horizon:  3\n",
      "Epoch:0 | \n",
      "Training took 0.021477270126342773 minutes\n",
      "\n",
      "Performance on test set: MAPE:  0.71 | MAE: 2364.42 | RMSE: 5879.5493|\n",
      "MAPE of potato : 0.1557 , lettuce : 0.2991 , onion : 0.1830 , cucumber : 0.2306\n",
      "------------------------------\n",
      "Dataset: pre_price | Window_size: 15 | Horizon:  4\n",
      "Epoch:0 | \n",
      "Training took 0.021739999453226726 minutes\n",
      "\n",
      "Performance on test set: MAPE:  0.76 | MAE: 2707.76 | RMSE: 6511.2003|\n",
      "MAPE of potato : 0.1930 , lettuce : 0.3076 , onion : 0.2014 , cucumber : 0.2496\n",
      "------------------------------\n",
      "Dataset: pre_price | Window_size: 15 | Horizon:  5\n",
      "Epoch:0 | \n",
      "Training took 0.02149978478749593 minutes\n",
      "\n",
      "Performance on test set: MAPE:  0.78 | MAE: 2532.87 | RMSE: 6282.5276|\n",
      "MAPE of potato : 0.1664 , lettuce : 0.3061 , onion : 0.1876 , cucumber : 0.2468\n",
      "------------------------------\n",
      "Dataset: pre_price | Window_size: 15 | Horizon:  6\n",
      "Epoch:0 | \n",
      "Training took 0.021557565530141196 minutes\n",
      "\n",
      "Performance on test set: MAPE:  0.73 | MAE: 2458.03 | RMSE: 6245.6682|\n",
      "MAPE of potato : 0.1620 , lettuce : 0.2756 , onion : 0.1699 , cucumber : 0.2437\n",
      "------------------------------\n",
      "Dataset: pre_price | Window_size: 15 | Horizon:  7\n",
      "Epoch:0 | \n",
      "Training took 0.021734480063120523 minutes\n",
      "\n",
      "Performance on test set: MAPE:  0.78 | MAE: 3013.38 | RMSE: 7202.5200|\n",
      "MAPE of potato : 0.2157 , lettuce : 0.3238 , onion : 0.2203 , cucumber : 0.2904\n",
      "------------------------------\n",
      "Dataset: pre_price | Window_size: 15 | Horizon:  14\n",
      "Epoch:0 | \n",
      "Training took 0.02142755190531413 minutes\n",
      "\n",
      "Performance on test set: MAPE:  0.80 | MAE: 2874.08 | RMSE: 6950.0150|\n",
      "MAPE of potato : 0.1972 , lettuce : 0.3245 , onion : 0.2115 , cucumber : 0.2813\n",
      "------------------------------\n"
     ]
    }
   ],
   "source": [
    "for i in all_cases :\n",
    "    args = stemgnn(data = i[0],\n",
    "        window_size = i[1],\n",
    "        horizon = i[2],\n",
    "        train_length = 7,\n",
    "        valid_length = 2,\n",
    "        test_length = 1)"
   ]
  },
  {
   "cell_type": "markdown",
   "metadata": {},
   "source": [
    "## 5 Post-Processing\n",
    "(skip)"
   ]
  },
  {
   "cell_type": "markdown",
   "metadata": {},
   "source": [
    "## 6 Result\n",
    "(skip)"
   ]
  },
  {
   "cell_type": "markdown",
   "metadata": {
    "id": "olF3U_sCHXAT"
   },
   "source": [
    "---"
   ]
  }
 ],
 "metadata": {
  "accelerator": "GPU",
  "colab": {
   "authorship_tag": "ABX9TyO2Yrt5jYJczHViKHTjksLl",
   "mount_file_id": "1F_1NEtcvbzQFiVYc-c0NxGKxsSqTDLAy",
   "provenance": []
  },
  "gpuClass": "standard",
  "kernelspec": {
   "display_name": "Python 3 (ipykernel)",
   "language": "python",
   "name": "python3"
  },
  "language_info": {
   "codemirror_mode": {
    "name": "ipython",
    "version": 3
   },
   "file_extension": ".py",
   "mimetype": "text/x-python",
   "name": "python",
   "nbconvert_exporter": "python",
   "pygments_lexer": "ipython3",
   "version": "3.8.10"
  },
  "toc-autonumbering": false,
  "toc-showcode": false,
  "toc-showmarkdowntxt": false
 },
 "nbformat": 4,
 "nbformat_minor": 4
}

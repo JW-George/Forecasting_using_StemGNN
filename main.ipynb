{
 "cells": [
  {
   "cell_type": "markdown",
   "metadata": {
    "id": "WvRVj7lXSLSc"
   },
   "source": [
    "---\n",
    "\n",
    "# Forecasting Fruit Price using StemGNN\n",
    "### Revision 23.02.28\n",
    "\n",
    "---"
   ]
  },
  {
   "cell_type": "markdown",
   "metadata": {
    "tags": []
   },
   "source": [
    "## 1 Environment"
   ]
  },
  {
   "cell_type": "code",
   "execution_count": 1,
   "metadata": {},
   "outputs": [
    {
     "name": "stdout",
     "output_type": "stream",
     "text": [
      "1.7.1+cu110 True\n"
     ]
    }
   ],
   "source": [
    "import torch\n",
    "print(torch.__version__, torch.cuda.is_available())\n",
    "# 1.7.1+cu110 True"
   ]
  },
  {
   "cell_type": "code",
   "execution_count": 2,
   "metadata": {
    "executionInfo": {
     "elapsed": 4778,
     "status": "ok",
     "timestamp": 1669999405726,
     "user": {
      "displayName": "George",
      "userId": "15038403754561146675"
     },
     "user_tz": -540
    },
    "id": "ns-jmDC_FksQ",
    "tags": []
   },
   "outputs": [],
   "source": [
    "#import torch\n",
    "import torch.nn as nn\n",
    "import torch.utils.data as torch_data\n",
    "import torch.nn.functional as F\n",
    "\n",
    "from datetime import datetime\n",
    "import pandas as pd\n",
    "import numpy as np\n",
    "import argparse, json, time, os, sys, importlib, itertools\n",
    "os.environ['CUDA_VISIBLE_DEVICES'] = '0,1'\n",
    "\n",
    "import warnings\n",
    "warnings.filterwarnings(action='ignore')\n",
    "\n",
    "#from models.handler import train, test\n",
    "sys.path.insert(0, './models')\n",
    "import handler\n",
    "importlib.reload(handler)\n",
    "\n",
    "import matplotlib.pyplot as plt\n",
    "plt.style.use('seaborn-whitegrid')\n",
    "%matplotlib inline"
   ]
  },
  {
   "cell_type": "markdown",
   "metadata": {
    "tags": []
   },
   "source": [
    "## 2 Data Check"
   ]
  },
  {
   "cell_type": "code",
   "execution_count": 3,
   "metadata": {
    "executionInfo": {
     "elapsed": 4541,
     "status": "ok",
     "timestamp": 1669999507429,
     "user": {
      "displayName": "George",
      "userId": "15038403754561146675"
     },
     "user_tz": -540
    },
    "id": "QREe0cRqtuDr"
   },
   "outputs": [
    {
     "data": {
      "text/html": [
       "<div>\n",
       "<style scoped>\n",
       "    .dataframe tbody tr th:only-of-type {\n",
       "        vertical-align: middle;\n",
       "    }\n",
       "\n",
       "    .dataframe tbody tr th {\n",
       "        vertical-align: top;\n",
       "    }\n",
       "\n",
       "    .dataframe thead th {\n",
       "        text-align: right;\n",
       "    }\n",
       "</style>\n",
       "<table border=\"1\" class=\"dataframe\">\n",
       "  <thead>\n",
       "    <tr style=\"text-align: right;\">\n",
       "      <th></th>\n",
       "      <th>potato</th>\n",
       "      <th>lettuce</th>\n",
       "      <th>onion</th>\n",
       "      <th>cucumber</th>\n",
       "      <th>high_tmp</th>\n",
       "      <th>rain_amt</th>\n",
       "      <th>avg_humid</th>\n",
       "      <th>avg_tmp</th>\n",
       "      <th>low_tmp</th>\n",
       "      <th>dtt</th>\n",
       "      <th>calweek</th>\n",
       "    </tr>\n",
       "    <tr>\n",
       "      <th>date</th>\n",
       "      <th></th>\n",
       "      <th></th>\n",
       "      <th></th>\n",
       "      <th></th>\n",
       "      <th></th>\n",
       "      <th></th>\n",
       "      <th></th>\n",
       "      <th></th>\n",
       "      <th></th>\n",
       "      <th></th>\n",
       "      <th></th>\n",
       "    </tr>\n",
       "  </thead>\n",
       "  <tbody>\n",
       "    <tr>\n",
       "      <th>2022.3.28</th>\n",
       "      <td>43000</td>\n",
       "      <td>17700</td>\n",
       "      <td>8625</td>\n",
       "      <td>57000</td>\n",
       "      <td>15.1</td>\n",
       "      <td>0.0</td>\n",
       "      <td>35.6</td>\n",
       "      <td>8.2</td>\n",
       "      <td>1.5</td>\n",
       "      <td>13.6</td>\n",
       "      <td>202213</td>\n",
       "    </tr>\n",
       "    <tr>\n",
       "      <th>2022.3.29</th>\n",
       "      <td>52300</td>\n",
       "      <td>17000</td>\n",
       "      <td>9975</td>\n",
       "      <td>57700</td>\n",
       "      <td>15.6</td>\n",
       "      <td>0.0</td>\n",
       "      <td>52.9</td>\n",
       "      <td>9.7</td>\n",
       "      <td>3.3</td>\n",
       "      <td>12.3</td>\n",
       "      <td>202213</td>\n",
       "    </tr>\n",
       "    <tr>\n",
       "      <th>2022.3.30</th>\n",
       "      <td>52300</td>\n",
       "      <td>18000</td>\n",
       "      <td>9975</td>\n",
       "      <td>49700</td>\n",
       "      <td>15.7</td>\n",
       "      <td>0.4</td>\n",
       "      <td>76.5</td>\n",
       "      <td>10.8</td>\n",
       "      <td>5.9</td>\n",
       "      <td>9.8</td>\n",
       "      <td>202213</td>\n",
       "    </tr>\n",
       "    <tr>\n",
       "      <th>2022.3.31</th>\n",
       "      <td>60000</td>\n",
       "      <td>20500</td>\n",
       "      <td>9975</td>\n",
       "      <td>46200</td>\n",
       "      <td>14.7</td>\n",
       "      <td>0.0</td>\n",
       "      <td>63.5</td>\n",
       "      <td>10.9</td>\n",
       "      <td>7.6</td>\n",
       "      <td>7.1</td>\n",
       "      <td>202213</td>\n",
       "    </tr>\n",
       "    <tr>\n",
       "      <th>2022.4.1</th>\n",
       "      <td>60000</td>\n",
       "      <td>21000</td>\n",
       "      <td>9975</td>\n",
       "      <td>38200</td>\n",
       "      <td>14.9</td>\n",
       "      <td>0.0</td>\n",
       "      <td>50.5</td>\n",
       "      <td>9.2</td>\n",
       "      <td>4.5</td>\n",
       "      <td>10.4</td>\n",
       "      <td>202213</td>\n",
       "    </tr>\n",
       "  </tbody>\n",
       "</table>\n",
       "</div>"
      ],
      "text/plain": [
       "           potato  lettuce  onion  cucumber  high_tmp  rain_amt  avg_humid  \\\n",
       "date                                                                         \n",
       "2022.3.28   43000    17700   8625     57000      15.1       0.0       35.6   \n",
       "2022.3.29   52300    17000   9975     57700      15.6       0.0       52.9   \n",
       "2022.3.30   52300    18000   9975     49700      15.7       0.4       76.5   \n",
       "2022.3.31   60000    20500   9975     46200      14.7       0.0       63.5   \n",
       "2022.4.1    60000    21000   9975     38200      14.9       0.0       50.5   \n",
       "\n",
       "           avg_tmp  low_tmp   dtt  calweek  \n",
       "date                                        \n",
       "2022.3.28      8.2      1.5  13.6   202213  \n",
       "2022.3.29      9.7      3.3  12.3   202213  \n",
       "2022.3.30     10.8      5.9   9.8   202213  \n",
       "2022.3.31     10.9      7.6   7.1   202213  \n",
       "2022.4.1       9.2      4.5  10.4   202213  "
      ]
     },
     "execution_count": 3,
     "metadata": {},
     "output_type": "execute_result"
    }
   ],
   "source": [
    "#with Price Data\n",
    "price_dataset = pd.read_csv('./dataset/price_dataset.csv',index_col=[0])\n",
    "price_dataset.to_csv(\"./dataset/pre_price.csv\", header=True, index=False)\n",
    "price_dataset.tail(5)"
   ]
  },
  {
   "cell_type": "markdown",
   "metadata": {},
   "source": [
    "## 3 Data Smoothing"
   ]
  },
  {
   "cell_type": "code",
   "execution_count": 4,
   "metadata": {},
   "outputs": [
    {
     "data": {
      "text/html": [
       "<div>\n",
       "<style scoped>\n",
       "    .dataframe tbody tr th:only-of-type {\n",
       "        vertical-align: middle;\n",
       "    }\n",
       "\n",
       "    .dataframe tbody tr th {\n",
       "        vertical-align: top;\n",
       "    }\n",
       "\n",
       "    .dataframe thead th {\n",
       "        text-align: right;\n",
       "    }\n",
       "</style>\n",
       "<table border=\"1\" class=\"dataframe\">\n",
       "  <thead>\n",
       "    <tr style=\"text-align: right;\">\n",
       "      <th></th>\n",
       "      <th>potato</th>\n",
       "      <th>lettuce</th>\n",
       "      <th>onion</th>\n",
       "      <th>cucumber</th>\n",
       "      <th>high_tmp</th>\n",
       "      <th>rain_amt</th>\n",
       "      <th>avg_humid</th>\n",
       "      <th>avg_tmp</th>\n",
       "      <th>low_tmp</th>\n",
       "      <th>dtt</th>\n",
       "      <th>calweek</th>\n",
       "    </tr>\n",
       "    <tr>\n",
       "      <th>date</th>\n",
       "      <th></th>\n",
       "      <th></th>\n",
       "      <th></th>\n",
       "      <th></th>\n",
       "      <th></th>\n",
       "      <th></th>\n",
       "      <th></th>\n",
       "      <th></th>\n",
       "      <th></th>\n",
       "      <th></th>\n",
       "      <th></th>\n",
       "    </tr>\n",
       "  </thead>\n",
       "  <tbody>\n",
       "    <tr>\n",
       "      <th>2000.1.3</th>\n",
       "      <td>15000</td>\n",
       "      <td>12000</td>\n",
       "      <td>7800</td>\n",
       "      <td>14500</td>\n",
       "      <td>0.1</td>\n",
       "      <td>0.0</td>\n",
       "      <td>54.1</td>\n",
       "      <td>-2.2</td>\n",
       "      <td>-4.6</td>\n",
       "      <td>4.7</td>\n",
       "      <td>200001</td>\n",
       "    </tr>\n",
       "    <tr>\n",
       "      <th>2000.1.4</th>\n",
       "      <td>15000</td>\n",
       "      <td>11000</td>\n",
       "      <td>7800</td>\n",
       "      <td>14500</td>\n",
       "      <td>4.3</td>\n",
       "      <td>0.0</td>\n",
       "      <td>48.6</td>\n",
       "      <td>0.3</td>\n",
       "      <td>-4.3</td>\n",
       "      <td>8.6</td>\n",
       "      <td>200001</td>\n",
       "    </tr>\n",
       "    <tr>\n",
       "      <th>2000.1.5</th>\n",
       "      <td>15000</td>\n",
       "      <td>10000</td>\n",
       "      <td>7800</td>\n",
       "      <td>14500</td>\n",
       "      <td>4.6</td>\n",
       "      <td>18.4</td>\n",
       "      <td>83.6</td>\n",
       "      <td>2.8</td>\n",
       "      <td>0.1</td>\n",
       "      <td>4.5</td>\n",
       "      <td>200001</td>\n",
       "    </tr>\n",
       "  </tbody>\n",
       "</table>\n",
       "</div>"
      ],
      "text/plain": [
       "          potato  lettuce  onion  cucumber  high_tmp  rain_amt  avg_humid  \\\n",
       "date                                                                        \n",
       "2000.1.3   15000    12000   7800     14500       0.1       0.0       54.1   \n",
       "2000.1.4   15000    11000   7800     14500       4.3       0.0       48.6   \n",
       "2000.1.5   15000    10000   7800     14500       4.6      18.4       83.6   \n",
       "\n",
       "          avg_tmp  low_tmp  dtt  calweek  \n",
       "date                                      \n",
       "2000.1.3     -2.2     -4.6  4.7   200001  \n",
       "2000.1.4      0.3     -4.3  8.6   200001  \n",
       "2000.1.5      2.8      0.1  4.5   200001  "
      ]
     },
     "execution_count": 4,
     "metadata": {},
     "output_type": "execute_result"
    }
   ],
   "source": [
    "# Data Smoothing using Rolling Average\n",
    "plot_result = [price_dataset]\n",
    "for i in [7, 14, 21, 28]: # 7d, 14d, 21d, 28d\n",
    "    rolling_tmp = pd.DataFrame(price_dataset.rolling(i).mean()).dropna()\n",
    "    for j in range(rolling_tmp.shape[1]):\n",
    "        if j in range(0,5):\n",
    "            rolling_tmp.iloc[:,j] = rolling_tmp.iloc[:,j].round(decimals = 0).astype('int')\n",
    "        if j in range(4,10):\n",
    "            rolling_tmp.iloc[:,j] = rolling_tmp.iloc[:,j].round(decimals = 1).astype('float64')\n",
    "    rolling_tmp.iloc[:,10] = rolling_tmp.iloc[:,10].apply(np.ceil).astype('int')\n",
    "    rolling_tmp.to_csv(\"./dataset/pre_price_s_\"+str(i)+\"d.csv\", header=True, index=False)\n",
    "    plot_result.append(rolling_tmp)\n",
    "plot_result[0].head(3)"
   ]
  },
  {
   "cell_type": "markdown",
   "metadata": {},
   "source": [
    "## 4 Train"
   ]
  },
  {
   "cell_type": "code",
   "execution_count": 5,
   "metadata": {
    "executionInfo": {
     "elapsed": 544,
     "status": "ok",
     "timestamp": 1669999562829,
     "user": {
      "displayName": "George",
      "userId": "15038403754561146675"
     },
     "user_tz": -540
    },
    "id": "M9KJ98SUyYpd",
    "tags": []
   },
   "outputs": [],
   "source": [
    "def stemgnn (data, window_size, horizon, train_length, valid_length, test_length) :\n",
    "    print('Dataset:', data, '| Window_size:',window_size,'| Horizon: ',horizon)\n",
    "    \n",
    "    parser = argparse.ArgumentParser()\n",
    "    parser.add_argument('--train', type=bool, default=True)\n",
    "    parser.add_argument('--evaluate', type=bool, default=True)\n",
    "    parser.add_argument('--dataset', type=str, default=data) #ECG_data\n",
    "    parser.add_argument('--window_size', type=int, default=window_size)\n",
    "    parser.add_argument('--horizon', type=int, default=horizon)\n",
    "    parser.add_argument('--train_length', type=float, default=train_length)\n",
    "    parser.add_argument('--valid_length', type=float, default=valid_length)\n",
    "    parser.add_argument('--test_length', type=float, default=test_length)\n",
    "    parser.add_argument('--epoch', type=int, default=200)\n",
    "    parser.add_argument('--lr', type=float, default=1e-4)\n",
    "    parser.add_argument('--multi_layer', type=int, default=5)\n",
    "    #parser.add_argument('--device', type=str, default='cpu')\n",
    "    parser.add_argument('--device', type=str, default='cuda')\n",
    "    parser.add_argument('--validate_freq', type=int, default=1)\n",
    "    parser.add_argument('--batch_size', type=int, default=32)\n",
    "    parser.add_argument('--norm_method', type=str, default='z_score')\n",
    "    parser.add_argument('--optimizer', type=str, default='RMSProp')\n",
    "    parser.add_argument('--early_stop', type=bool, default=True)\n",
    "    parser.add_argument('--early_stop_step', type=int, default=20)\n",
    "    parser.add_argument('--exponential_decay_step', type=int, default=5)\n",
    "    parser.add_argument('--decay_rate', type=float, default=0.5)\n",
    "    parser.add_argument('--dropout_rate', type=float, default=0.5)\n",
    "    parser.add_argument('--leakyrelu_rate', type=int, default=0.2)\n",
    "\n",
    "    #args = parser.parse_args()\n",
    "    args = parser.parse_args(args=[])\n",
    "    data_file = os.path.join('dataset', args.dataset + '.csv')\n",
    "    data = pd.read_csv(data_file).values\n",
    "    \n",
    "    # make dirs\n",
    "    args.dataset = args.dataset + '_w_'+str(args.window_size)+'_h_'+str(args.horizon)\n",
    "    result_train_file = os.path.join('output', args.dataset, 'train')\n",
    "    result_test_file = os.path.join('output', args.dataset, 'test')\n",
    "    if not os.path.exists(result_train_file):\n",
    "        os.makedirs(result_train_file)\n",
    "    if not os.path.exists(result_test_file):\n",
    "        os.makedirs(result_test_file)\n",
    "\n",
    "    # split data\n",
    "    train_ratio = args.train_length / (args.train_length + args.valid_length + args.test_length)\n",
    "    valid_ratio = args.valid_length / (args.train_length + args.valid_length + args.test_length)\n",
    "    test_ratio = 1 - train_ratio - valid_ratio\n",
    "    train_data = data[:int(train_ratio * len(data))]\n",
    "    valid_data = data[int(train_ratio * len(data)):int((train_ratio + valid_ratio) * len(data))]\n",
    "    test_data = data[int((train_ratio + valid_ratio) * len(data)):]\n",
    "\n",
    "    torch.manual_seed(0)\n",
    "    if args.train:\n",
    "        try:\n",
    "            before_train = datetime.now().timestamp()\n",
    "            _, normalize_statistic = handler.train(train_data, valid_data, args, result_train_file)\n",
    "            after_train = datetime.now().timestamp()\n",
    "            print(f'\\nTraining took {(after_train - before_train) / 60} minutes')\n",
    "        except KeyboardInterrupt:\n",
    "            print('-' * 99)\n",
    "            print('Exiting from training early')\n",
    "    if args.evaluate:\n",
    "        before_evaluation = datetime.now().timestamp()\n",
    "        handler.test(test_data, args, result_train_file, result_test_file)\n",
    "        after_evaluation = datetime.now().timestamp()\n",
    "        #print(f'Evaluation took {(after_evaluation - before_evaluation) / 60} minutes')\n",
    "    print('-'*30)\n",
    "    return args"
   ]
  },
  {
   "cell_type": "code",
   "execution_count": 6,
   "metadata": {
    "tags": []
   },
   "outputs": [
    {
     "name": "stdout",
     "output_type": "stream",
     "text": [
      "경우의 수 : 320개 | ex: ('pre_price', 15, 1)\n"
     ]
    }
   ],
   "source": [
    "csv_cases = ['pre_price', 'pre_price_s_7d','pre_price_s_14d', 'pre_price_s_21d', 'pre_price_s_28d'] \n",
    "window_cases = [15, 30, 45, 60, 90, 180, 270, 360]\n",
    "horizon_cases = [a+1 for a in range(7)] + [14]\n",
    "all_cases = list(itertools.product(*[csv_cases,window_cases,horizon_cases]))\n",
    "print(\"경우의 수 : %s개 | ex:\" %len(all_cases), all_cases[0])"
   ]
  },
  {
   "cell_type": "code",
   "execution_count": 8,
   "metadata": {
    "tags": []
   },
   "outputs": [
    {
     "name": "stdout",
     "output_type": "stream",
     "text": [
      "Dataset: pre_price | Window_size: 15 | Horizon:  1\n",
      "Epoch:0 | Epoch:10 | Epoch:20 | Epoch:30 | Epoch:31 | \n",
      "Training took 0.6846506516138713 minutes\n",
      "\n",
      "Performance on test set: MAPE:  0.61 | MAE: 981.49 | RMSE: 2439.2642|\n",
      "MAPE of potato : 0.0764 , lettuce : 0.1424 , onion : 0.0911 , cucumber : 0.1102\n",
      "------------------------------\n"
     ]
    }
   ],
   "source": [
    "for i in all_cases :\n",
    "    args = stemgnn(data = i[0],\n",
    "        window_size = i[1],\n",
    "        horizon = i[2],\n",
    "        train_length = 7,\n",
    "        valid_length = 2,\n",
    "        test_length = 1)"
   ]
  },
  {
   "cell_type": "markdown",
   "metadata": {},
   "source": [
    "## 5 Result"
   ]
  },
  {
   "cell_type": "code",
   "execution_count": 9,
   "metadata": {},
   "outputs": [],
   "source": [
    "Produce = 0\n",
    "Produce_list = ['Potato', 'Lettuce', 'Onion', 'Cucumber']"
   ]
  },
  {
   "cell_type": "code",
   "execution_count": 10,
   "metadata": {
    "tags": []
   },
   "outputs": [
    {
     "name": "stdout",
     "output_type": "stream",
     "text": [
      "[Figure] Smoothing: pre_price | Window:15 | horizon:1\n"
     ]
    },
    {
     "data": {
      "image/png": "[encoded data removed]",
      "text/plain": [
       "<Figure size 864x432 with 1 Axes>"
      ]
     },
     "metadata": {
      "needs_background": "light"
     },
     "output_type": "display_data"
    }
   ],
   "source": [
    "for i in all_cases:\n",
    "    print('[Figure] Smoothing:',str(i[0])+' | Window:'+str(i[1])+' | horizon:'+str(i[2]))\n",
    "    \n",
    "    start_day = 7200\n",
    "    test_t = plot_result[csv_cases.index(str(i[0]))]#.iloc[:,Produce]\n",
    "    test_p = pd.read_csv('./output/'+ str(i[0])+'_w_'+str(i[1])+'_h_'+str(i[2]) +'/test/predict.csv', header=None).iloc[:,Produce]\n",
    "    test_t.index = pd.to_datetime(test_t.index)\n",
    "    test_p.index = pd.to_datetime((test_t.index)[-(len(test_p)):])\n",
    "\n",
    "    fig, ax = plt.subplots(figsize=(12,6))\n",
    "    test_t.iloc[start_day:,Produce].plot(ax=ax, label='Actual Data');\n",
    "    test_p.plot(ax=ax, label='Forecasting Data');\n",
    "    ax.vlines((test_t.iloc[:,Produce]).index[int(len(test_t)*(args.train_length+args.valid_length)/10)], 0, max(test_t.iloc[:,Produce]), linestyle='--',color='b',label='Start of Test')\n",
    "    ax.vlines((test_t.iloc[:,Produce]).index[-(len(test_p))], 0, max(test_t.iloc[:,Produce]), linestyle='--',color='r',label='Start of Forecast')\n",
    "    ax.vlines((test_t.iloc[:,Produce]).index[int(len(test_t)*(args.train_length+args.valid_length)/10)+(i[1])-2], 0, max(test_t.iloc[:,Produce]), linestyle='--',color='g',label='Start Horizon')\n",
    "\n",
    "    ax.legend(loc='upper right')\n",
    "    fig.suptitle('Forecasting Price of ' +Produce_list[Produce]+' using StemGNN')\n",
    "    plt.show()"
   ]
  },
  {
   "cell_type": "markdown",
   "metadata": {
    "id": "olF3U_sCHXAT"
   },
   "source": [
    "---"
   ]
  }
 ],
 "metadata": {
  "accelerator": "GPU",
  "colab": {
   "authorship_tag": "ABX9TyO2Yrt5jYJczHViKHTjksLl",
   "mount_file_id": "1F_1NEtcvbzQFiVYc-c0NxGKxsSqTDLAy",
   "provenance": []
  },
  "gpuClass": "standard",
  "kernelspec": {
   "display_name": "Python 3 (ipykernel)",
   "language": "python",
   "name": "python3"
  },
  "language_info": {
   "codemirror_mode": {
    "name": "ipython",
    "version": 3
   },
   "file_extension": ".py",
   "mimetype": "text/x-python",
   "name": "python",
   "nbconvert_exporter": "python",
   "pygments_lexer": "ipython3",
   "version": "3.8.10"
  },
  "toc-autonumbering": false,
  "toc-showcode": false,
  "toc-showmarkdowntxt": false
 },
 "nbformat": 4,
 "nbformat_minor": 4
}
